{
 "cells": [
  {
   "attachments": {},
   "cell_type": "markdown",
   "metadata": {},
   "source": [
    "# A Python script to take a list of chalmers masters thesis URL and generate a MD file."
   ]
  },
  {
   "cell_type": "code",
   "execution_count": 8,
   "metadata": {},
   "outputs": [],
   "source": [
    "import pandas as pd\n",
    "import os\n",
    "import string\n",
    "from collections import defaultdict\n",
    "from datetime import date\n",
    "import random"
   ]
  },
  {
   "cell_type": "code",
   "execution_count": 3,
   "metadata": {},
   "outputs": [],
   "source": [
    "def get_author(thesis):\n",
    "    authors = thesis[\"dc.contributor.author\"]\n",
    "    author = ''\n",
    "    for auth in authors:\n",
    "        auth = auth.replace(' ','').replace(',','-') # replace comma with dash\n",
    "        author += auth + ','\n",
    "    author = author[:-1]\n",
    "    return author"
   ]
  },
  {
   "cell_type": "code",
   "execution_count": 7,
   "metadata": {},
   "outputs": [],
   "source": [
    "download_delay = 3 # Seconds\n",
    "thesisLinks_df = pd.read_csv('thesis.csv', encoding = 'unicode_escape')\n",
    "thesisLinks = thesisLinks_df['url'].values.tolist()"
   ]
  },
  {
   "cell_type": "code",
   "execution_count": 5,
   "metadata": {},
   "outputs": [],
   "source": [
    "for URL in thesisLinks:\n",
    "  print(f'Processing {URL}')\n",
    "  dfs = pd.read_html(URL)                         # read all tables in the page\n",
    "  df = dfs[0]                                     # select the first table\n",
    "  thesis = defaultdict(list)                      # create a dictionary to store the metadata\n",
    "  print(f'Thesis fetched') # print the metadata\n",
    "  for k, v in zip(df[0],df[1]):\n",
    "    thesis[k].append(v)                           # store the metadata in the dictionary\n",
    "\n",
    "  author = get_author(thesis)                     # get the author name\n",
    "  date = thesis[\"dc.date.available\"]              # get thesis date\n",
    "  uri = thesis[\"dc.identifier.uri\"] \n",
    "  title = thesis[\"dc.title\"] # get thesis title\n",
    "\n",
    "  if 'dc.description.abstract' in thesis.keys(): # check if abstract is available\n",
    "    abstract = thesis[\"dc.description.abstract\"]\n",
    "  else:\n",
    "    abstract = 'Abstract not available'   \n",
    "  \n",
    "  print(f'Added Author : {author}')\n",
    "  today = date.today()\n",
    "  newpath = 'content/project/thesis_'+ author.translate(str.maketrans('', '', string.punctuation)).replace(' ', '_').lower()\n",
    "  if not os.path.exists(newpath):\n",
    "    os.makedirs(newpath)\n",
    "  #open text file\n",
    "  text_file = open(newpath+\"/index.md\", \"w\", encoding=\"utf-8\")\n",
    "  #write string to file\n",
    "  text_file.write(f\"\"\"\n",
    "---\n",
    "# Documentation: https://wowchemy.com/docs/managing-content/\n",
    "# This markdown has been automatically generated on {today}\n",
    "\n",
    "title: \"{title}\"\n",
    "featured: false\n",
    "summary: \"\"\n",
    "authors: [{author}]\n",
    "tags: [Teaching,Teaching_MastersThesisCompleted]\n",
    "categories: [Teaching]\n",
    "date: {date}\n",
    "\n",
    "# Optional external URL for project (replaces project detail page).\n",
    "external_link: \"\"\n",
    "\n",
    "# Featured image\n",
    "# To use, add an image named `featured.jpg/png` to your page's folder.\n",
    "# Focal points: Smart, Center, TopLeft, Top, TopRight, Left, Right, BottomLeft, Bottom, BottomRight.\n",
    "image:\n",
    "  caption: \"\"\n",
    "  focal_point: \"Center\"\n",
    "  preview_only: false\n",
    "\n",
    "# Custom links (optional).\n",
    "#   Uncomment and edit lines below to show custom links.\n",
    "# links:\n",
    "# - name: Follow\n",
    "#   url: https://twitter.com\n",
    "#   icon_pack: fab\n",
    "#   icon: twitter\n",
    "\n",
    "url_code: \"\"\n",
    "url_pdf: \"\"\n",
    "url_slides: \"\"\n",
    "url_video: \"\"\n",
    "\n",
    "# Slides (optional).\n",
    "#   Associate this project with Markdown slides.\n",
    "#   Simply enter your slide deck's filename without extension.\n",
    "#   E.g. `slides = \"example-slides\"` references `content/slides/example-slides.md`.\n",
    "#   Otherwise, set `slides = \"\"`.\n",
    "slides: \"\"\n",
    "---\n",
    "## Abstract\n",
    "{abstract}\n",
    "[Link to thesis]({uri})\n",
    "\"\"\")\n",
    "  text_file.close()\n",
    "  time.sleep(download_delay+random.uniform(0, 1)) # random delay to avoid overloading the server"
   ]
  }
 ],
 "metadata": {
  "kernelspec": {
   "display_name": "adp",
   "language": "python",
   "name": "python3"
  },
  "language_info": {
   "codemirror_mode": {
    "name": "ipython",
    "version": 3
   },
   "file_extension": ".py",
   "mimetype": "text/x-python",
   "name": "python",
   "nbconvert_exporter": "python",
   "pygments_lexer": "ipython3",
   "version": "3.10.5 | packaged by conda-forge | (main, Jun 14 2022, 06:57:50) [MSC v.1929 64 bit (AMD64)]"
  },
  "orig_nbformat": 4,
  "vscode": {
   "interpreter": {
    "hash": "e625c69827c051f7adedbb30f11bc5ed434843f70f9aaca28c8d45f38077a9b9"
   }
  }
 },
 "nbformat": 4,
 "nbformat_minor": 2
}
