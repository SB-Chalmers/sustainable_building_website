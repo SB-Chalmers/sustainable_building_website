{
  "nbformat": 4,
  "nbformat_minor": 0,
  "metadata": {
    "colab": {
      "provenance": [],
      "collapsed_sections": [],
      "authorship_tag": "ABX9TyPX/2BN1gPWEKq+BJC3kjN2",
      "include_colab_link": true
    },
    "kernelspec": {
      "name": "python3",
      "display_name": "Python 3"
    },
    "language_info": {
      "name": "python"
    }
  },
  "cells": [
    {
      "cell_type": "markdown",
      "metadata": {
        "id": "view-in-github",
        "colab_type": "text"
      },
      "source": [
        "<a href=\"https://colab.research.google.com/github/SB-Chalmers/sustainable_building_website/blob/main/RG_Bibupdate.ipynb\" target=\"_parent\"><img src=\"https://colab.research.google.com/assets/colab-badge.svg\" alt=\"Open In Colab\"/></a>"
      ]
    },
    {
      "cell_type": "markdown",
      "source": [
        "# A python script to generate a bib file from swepub rss feeds\n",
        "This script is meant to be run regularly and the resulting *.bib file must be used with the Hugo Academic CLI.\n",
        "\n",
        "Run `academic import --bibtex library.bib` to update all publications in the hugo terminal.\n",
        "\n",
        "Note: This does not work well with name structures other than firstname-lastname, to work around this there is a manual string search done at the end. Ensure that this is kept up to date.\n",
        "\n",
        "The swepub link must also be kept up to date using the RG Publication [excel document](https://chalmers-my.sharepoint.com/:x:/g/personal/ssanjay_chalmers_se/EWB9woXUNjJPv-xcqglRiUIB_AWbEI4Ws4BX4VnpFY99Rg?e=0B4WwW)"
      ],
      "metadata": {
        "id": "oh0eHcBsBm0c"
      }
    },
    {
      "cell_type": "code",
      "source": [
        "!pip install switch\n",
        "!pip install feedparser"
      ],
      "metadata": {
        "colab": {
          "base_uri": "https://localhost:8080/"
        },
        "id": "c0xF7p07-cKg",
        "outputId": "f1b07cba-5b4d-46b7-8269-9cdf66dc313c"
      },
      "execution_count": 1,
      "outputs": [
        {
          "output_type": "stream",
          "name": "stdout",
          "text": [
            "Looking in indexes: https://pypi.org/simple, https://us-python.pkg.dev/colab-wheels/public/simple/\n",
            "Collecting switch\n",
            "  Downloading switch-1.1.0.zip (6.1 kB)\n",
            "Building wheels for collected packages: switch\n",
            "  Building wheel for switch (setup.py) ... \u001b[?25l\u001b[?25hdone\n",
            "  Created wheel for switch: filename=switch-1.1.0-py3-none-any.whl size=3555 sha256=9ce9c37ab2c75fbcfcbba425464458993dccbaef24043fc6d58e3f6d62349c95\n",
            "  Stored in directory: /root/.cache/pip/wheels/6e/c0/4f/f8f1f2da2f41c5ac46a26487f6c29e6ebe40d2534ac327afa8\n",
            "Successfully built switch\n",
            "Installing collected packages: switch\n",
            "Successfully installed switch-1.1.0\n",
            "Looking in indexes: https://pypi.org/simple, https://us-python.pkg.dev/colab-wheels/public/simple/\n",
            "Collecting feedparser\n",
            "  Downloading feedparser-6.0.10-py3-none-any.whl (81 kB)\n",
            "\u001b[K     |████████████████████████████████| 81 kB 4.1 MB/s \n",
            "\u001b[?25hCollecting sgmllib3k\n",
            "  Downloading sgmllib3k-1.0.0.tar.gz (5.8 kB)\n",
            "Building wheels for collected packages: sgmllib3k\n",
            "  Building wheel for sgmllib3k (setup.py) ... \u001b[?25l\u001b[?25hdone\n",
            "  Created wheel for sgmllib3k: filename=sgmllib3k-1.0.0-py3-none-any.whl size=6066 sha256=812630b07a2c8acf0bf6a2a9ec906f048320b7d4e9e10e2b49968098bd10f4ef\n",
            "  Stored in directory: /root/.cache/pip/wheels/73/ad/a4/0dff4a6ef231fc0dfa12ffbac2a36cebfdddfe059f50e019aa\n",
            "Successfully built sgmllib3k\n",
            "Installing collected packages: sgmllib3k, feedparser\n",
            "Successfully installed feedparser-6.0.10 sgmllib3k-1.0.0\n"
          ]
        }
      ]
    },
    {
      "cell_type": "code",
      "execution_count": 259,
      "metadata": {
        "id": "2cyGLPtY0d8y"
      },
      "outputs": [],
      "source": [
        "import feedparser\n",
        "import argparse\n",
        "import json"
      ]
    },
    {
      "cell_type": "code",
      "source": [
        "bibfeed = feedparser.parse(\"https://swepub.kb.se/atom.jsp?q=(%27(WFRF:(N%C3%A4geli+Claudio+1987)%20OR%20WFRF:(Jimenez+Encarnacion+Divia+1989)%20OR%20WFRF:(Galimshina+Alina)%20OR%20WFRF:(Gonzalez+Caceres+Alex+Arnoldo+1982)%20OR%20WFRF:(Holger+Wallbaum+1967)%20OR%20WFRF:(Hollberg+Alexander+1985)%20OR%20WFRF:(Lanau+Maud+1989)%20OR%20WFRF:(Rosado+Leonardo+1975)%20OR%20WFRF:(Malakhatka+Elena)%20OR%20WFRF:(Melina+Forooraghi+1989)%20OR%20WFRF:(%C3%96sterbring+Magnus+1986)%20OR%20WFRF:(Quan+Jin+1983)%20OR%20WFRF:(Sanjay+Somanath+1994)%20OR%20WFRF:(Shea+Hagy+1982)%20OR%20WFRF:(Sjouke+Beemsterboer+1984)%20OR%20WFRF:(Toivo+S%C3%A4w%C3%A9n+1993)%20OR%20WFRF:(Xinyue+Wang+1995)%20OR%20WFRF:(Yutaka+Goto+1984))%27)%27&order_by=rank2&format=RIS\")"
      ],
      "metadata": {
        "id": "3UUNdMs-87dm"
      },
      "execution_count": 260,
      "outputs": []
    },
    {
      "cell_type": "code",
      "source": [
        "def add_entry(entry):\n",
        "  # Key value pairs\n",
        "  keys = []\n",
        "  vals = []\n",
        "  keys.append('PY')\n",
        "  vals.append(entry.published[:4])\n",
        "  for data in entry.content[0].value.split('\\n'):\n",
        "    keys.append(data[:2])\n",
        "    vals.append(data[6:])\n",
        "  # Containers for information\n",
        "  author_list=[]\n",
        "  entry_type = None\n",
        "  title=None\n",
        "  journal=None\n",
        "  volume=None\n",
        "  year=None\n",
        "  month=None\n",
        "  startingpage=None\n",
        "  finalpage=None\n",
        "  publisher=None\n",
        "  doi=None\n",
        "  abstract = None\n",
        "\n",
        "  for i in range(len(keys)):\n",
        "    case = keys[i]\n",
        "    value = vals[i]\n",
        "    if case == 'TY':\n",
        "      entry_type = value\n",
        "    elif case == 'A1' or case == 'AU':\n",
        "      if value == 'Chalmers University of TechnologyChalmers tekniska högskola' or value == 'Chalmers tekniska högskolaChalmers University of Technology':\n",
        "        pass\n",
        "      else:\n",
        "        author_list.append(value)\n",
        "    elif case == 'T1' or case == 'TY' or case == 'T1':\n",
        "      title=value\n",
        "    elif case == 'JA' or case == 'JF':\n",
        "      journal=value\n",
        "    elif case == 'VL' or case == 'IS':\n",
        "      volume=value\n",
        "    elif case == 'PY':\n",
        "      year=value.rsplit('/')[0]\n",
        "    elif case == 'SP':\n",
        "      startingpage=value\n",
        "    elif case == 'EP':\n",
        "      finalpage=value\n",
        "    elif case == 'UR':\n",
        "      if 'doi' in value:\n",
        "        doi=value[16:].strip()\n",
        "    elif case == 'PB':\n",
        "      publisher=value\n",
        "    elif case == 'N2':\n",
        "      abstract = value\n",
        "  lines=[]\n",
        "  ##### JOURNALS #####\n",
        "  if entry_type == 'JOUR':\n",
        "    firstauthor=author_list[0].rsplit(',')[0].strip(' ')\n",
        "    split = title.split(' ')\n",
        "    if len(split) == 1:\n",
        "      lines.append('@article{'+firstauthor.lower()+year+'_'+split[0]+',')\n",
        "    else:\n",
        "      lines.append('@article{'+firstauthor.lower()+year+'_'+split[0]+'_'+split[1]+',')\n",
        "    authorline=' '*4 + 'author={' + ' and '.join(author_list)+'},'\n",
        "    lines.append(authorline)\n",
        "    if title is not None:\n",
        "        lines.append(' '*4 + 'title={' + title + '},')\n",
        "    if journal is not None:\n",
        "        lines.append(' '*4 + 'journal={' + journal + '},')\n",
        "    if volume is not None:\n",
        "        lines.append(' '*4 + 'volume={' + volume + '},')\n",
        "    if startingpage is not None and finalpage is not None:\n",
        "        lines.append(' '*4 + 'pages={' + startingpage + '--'+finalpage+'},')\n",
        "    if year is not None:\n",
        "        lines.append(' '*4 + 'year={' + year + '},')\n",
        "    if doi is not None:\n",
        "        lines.append(' '*4 + 'doi={' + doi + '},')\n",
        "    if publisher is not None:\n",
        "        lines.append(' '*4 + 'publisher={' + publisher + '},')\n",
        "    if abstract is not None:\n",
        "        lines.append(' '*4 + 'abstract={' + abstract + '},')\n",
        "  ##### BOOKS ####\n",
        "  elif entry_type == 'BOOK':\n",
        "    firstauthor=author_list[0].rsplit(',')[0].strip(' ')\n",
        "    split = title.split(' ')\n",
        "    if len(split) == 1:\n",
        "      lines.append('@article{'+firstauthor.lower()+year+'_'+split[0]+',')\n",
        "    else:\n",
        "      lines.append('@article{'+firstauthor.lower()+year+'_'+split[0]+'_'+split[1]+',')\n",
        "    authorline=' '*4 + 'author={' + ' and '.join(author_list)+'},'\n",
        "    lines.append(authorline)\n",
        "    if title is not None:\n",
        "        lines.append(' '*4 + 'title={' + title + '},')\n",
        "    if year is not None:\n",
        "        lines.append(' '*4 + 'year={' + year + '},')\n",
        "    if publisher is not None:\n",
        "        lines.append(' '*4 + 'publisher={' + publisher + '},')\n",
        "    if abstract is not None:\n",
        "        lines.append(' '*4 + 'abstract={' + abstract + '},')\n",
        "  lines.append('}\\n')\n",
        "  return lines"
      ],
      "metadata": {
        "id": "bmmm2FPaQRfE"
      },
      "execution_count": 261,
      "outputs": []
    },
    {
      "cell_type": "code",
      "source": [
        "with open('library.bib','w') as f:\n",
        "  for entry in bibfeed.entries:\n",
        "    f.write('\\n'.join(add_entry(entry)))"
      ],
      "metadata": {
        "id": "59y9EJ4LYXje"
      },
      "execution_count": 262,
      "outputs": []
    },
    {
      "cell_type": "code",
      "source": [
        "# Read in the file\n",
        "with open('library.bib', 'r') as file :\n",
        "  filedata = file.read()\n",
        "\n",
        "# Replace the target string\n",
        "filedata = filedata.replace('Gonzalez Caceres, Alex Arnoldo', 'Gonzalez, Alex')\n",
        "filedata = filedata.replace('Jimenez Encarnacion, Divia', 'Jimenez, Divia')\n",
        "# Write the file out again\n",
        "with open('library.bib', 'w') as file:\n",
        "  file.write(filedata)"
      ],
      "metadata": {
        "id": "dWos2d6q77rM"
      },
      "execution_count": 263,
      "outputs": []
    }
  ]
}