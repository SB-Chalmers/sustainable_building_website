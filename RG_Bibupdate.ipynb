{
  "cells": [
    {
      "cell_type": "markdown",
      "metadata": {
        "colab_type": "text",
        "id": "view-in-github"
      },
      "source": [
        "<a href=\"https://colab.research.google.com/github/SB-Chalmers/sustainable_building_website/blob/main/RG_Bibupdate.ipynb\" target=\"_parent\"><img src=\"https://colab.research.google.com/assets/colab-badge.svg\" alt=\"Open In Colab\"/></a>"
      ]
    },
    {
      "cell_type": "markdown",
      "metadata": {
        "id": "oh0eHcBsBm0c"
      },
      "source": [
        "# A python script to generate a bib file from swepub rss feeds\n",
        "This script is meant to be run regularly and the resulting *.bib file must be used with the Hugo Academic CLI.\n",
        "\n",
        "## How to use this script\n",
        "* Simply click run all cells and wait for the `library.bib` file to be created. \n",
        "* Run `academic import --bibtex library.bib` to update all publications in the hugo terminal.\n",
        "\n",
        "Note: This does not work well with name structures other than firstname-lastname, to work around this there is a manual string search done at the end. Ensure that this is kept up to date.\n",
        "\n",
        "The swepub link must also be kept up to date using the RG Publication [excel document](https://chalmers-my.sharepoint.com/:x:/g/personal/ssanjay_chalmers_se/EWB9woXUNjJPv-xcqglRiUIB_AWbEI4Ws4BX4VnpFY99Rg?e=0B4WwW)"
      ]
    },
    {
      "cell_type": "code",
      "execution_count": 22,
      "metadata": {
        "colab": {
          "base_uri": "https://localhost:8080/"
        },
        "id": "c0xF7p07-cKg",
        "outputId": "f1b07cba-5b4d-46b7-8269-9cdf66dc313c"
      },
      "outputs": [
        {
          "name": "stdout",
          "output_type": "stream",
          "text": [
            "Requirement already satisfied: feedparser in c:\\users\\ssanjay\\appdata\\local\\continuum\\anaconda3\\lib\\site-packages (6.0.10)\n",
            "Requirement already satisfied: sgmllib3k in c:\\users\\ssanjay\\appdata\\local\\continuum\\anaconda3\\lib\\site-packages (from feedparser) (1.0.0)\n"
          ]
        }
      ],
      "source": [
        "!pip install feedparser"
      ]
    },
    {
      "cell_type": "code",
      "execution_count": 23,
      "metadata": {
        "id": "2cyGLPtY0d8y"
      },
      "outputs": [],
      "source": [
        "import feedparser\n",
        "import json"
      ]
    },
    {
      "cell_type": "code",
      "execution_count": 24,
      "metadata": {
        "id": "3UUNdMs-87dm"
      },
      "outputs": [],
      "source": [
        "bibfeed = feedparser.parse(\"https://swepub.kb.se/atom.jsp?q=(%27(WFRF:(N%C3%A4geli+Claudio+1987)%20OR%20WFRF:(Jimenez+Encarnacion+Divia+1989)%20OR%20WFRF:(Galimshina+Alina)%20OR%20WFRF:(Gonzalez+Caceres+Alex+Arnoldo+1982)%20OR%20WFRF:(Holger+Wallbaum+1967)%20OR%20WFRF:(Hollberg+Alexander+1985)%20OR%20WFRF:(Lanau+Maud+1989)%20OR%20WFRF:(Rosado+Leonardo+1975)%20OR%20WFRF:(Malakhatka+Elena)%20OR%20WFRF:(Melina+Forooraghi+1989)%20OR%20WFRF:(%C3%96sterbring+Magnus+1986)%20OR%20WFRF:(Quan+Jin+1983)%20OR%20WFRF:(Sanjay+Somanath+1994)%20OR%20WFRF:(Shea+Hagy+1982)%20OR%20WFRF:(Sjouke+Beemsterboer+1984)%20OR%20WFRF:(Toivo+S%C3%A4w%C3%A9n+1993)%20OR%20WFRF:(Xinyue+Wang+1995)%20OR%20WFRF:(Yutaka+Goto+1984))%27)%27&order_by=rank2&format=RIS\")"
      ]
    },
    {
      "cell_type": "code",
      "execution_count": 25,
      "metadata": {
        "id": "bmmm2FPaQRfE"
      },
      "outputs": [],
      "source": [
        "def add_entry(entry):\n",
        "  # Key value pairs\n",
        "  keys = []\n",
        "  vals = []\n",
        "  keys.append('PY')\n",
        "  vals.append(entry.published[:4])\n",
        "  for data in entry.content[0].value.split('\\n'):\n",
        "    keys.append(data[:2])\n",
        "    vals.append(data[6:])\n",
        "  \n",
        "  # Containers for information\n",
        "  author_list=[]\n",
        "  entry_type = None\n",
        "  title=None\n",
        "  journal=None\n",
        "  volume=None\n",
        "  year=None\n",
        "  month=None\n",
        "  startingpage=None\n",
        "  finalpage=None\n",
        "  publisher=None\n",
        "  doi=None\n",
        "  abstract = None\n",
        "\n",
        "  for i in range(len(keys)):\n",
        "    case = keys[i]\n",
        "    value = vals[i]\n",
        "    if case == 'TY':\n",
        "      entry_type = value\n",
        "    elif case == 'A1' or case == 'AU':\n",
        "      if value == 'Chalmers University of TechnologyChalmers tekniska högskola' or value == 'Chalmers tekniska högskolaChalmers University of Technology':\n",
        "        pass\n",
        "      else:\n",
        "        author_list.append(value)\n",
        "    elif case == 'T1' or case == 'TY' or case == 'T1':\n",
        "      title=value\n",
        "    elif case == 'JA' or case == 'JF':\n",
        "      journal=value\n",
        "    elif case == 'VL' or case == 'IS':\n",
        "      volume=value\n",
        "    elif case == 'PY':\n",
        "      year=value.rsplit('/')[0]\n",
        "    elif case == 'SP':\n",
        "      startingpage=value\n",
        "    elif case == 'EP':\n",
        "      finalpage=value\n",
        "    elif case == 'UR':\n",
        "      if 'doi' in value:\n",
        "        doi=value[16:].strip()\n",
        "    elif case == 'PB':\n",
        "      publisher=value\n",
        "    elif case == 'N2':\n",
        "      abstract = value\n",
        "  lines=[]\n",
        "  ##### JOURNALS #####\n",
        "  if entry_type == 'JOUR':\n",
        "    firstauthor=author_list[0].rsplit(',')[0].strip(' ')\n",
        "    split = title.split(' ')\n",
        "    if len(split) == 1:\n",
        "      lines.append('@article{'+firstauthor.lower()+year+'_'+split[0]+',')\n",
        "    else:\n",
        "      lines.append('@article{'+firstauthor.lower()+year+'_'+split[0]+'_'+split[1]+',')\n",
        "    authorline=' '*4 + 'author={' + ' and '.join(author_list)+'},'\n",
        "    lines.append(authorline)\n",
        "    if title is not None:\n",
        "        lines.append(' '*4 + 'title={' + title + '},')\n",
        "    if journal is not None:\n",
        "        lines.append(' '*4 + 'journal={' + journal + '},')\n",
        "    if volume is not None:\n",
        "        lines.append(' '*4 + 'volume={' + volume + '},')\n",
        "    if startingpage is not None and finalpage is not None:\n",
        "        lines.append(' '*4 + 'pages={' + startingpage + '--'+finalpage+'},')\n",
        "    if year is not None:\n",
        "        lines.append(' '*4 + 'year={' + year + '},')\n",
        "    if doi is not None:\n",
        "        lines.append(' '*4 + 'doi={' + doi + '},')\n",
        "    if publisher is not None:\n",
        "        lines.append(' '*4 + 'publisher={' + publisher + '},')\n",
        "    if abstract is not None:\n",
        "        lines.append(' '*4 + 'abstract={' + abstract + '},')\n",
        "  ##### BOOKS ####\n",
        "  elif entry_type == 'BOOK':\n",
        "    firstauthor=author_list[0].rsplit(',')[0].strip(' ')\n",
        "    split = title.split(' ')\n",
        "    if len(split) == 1:\n",
        "      lines.append('@article{'+firstauthor.lower()+year+'_'+split[0]+',')\n",
        "    else:\n",
        "      lines.append('@article{'+firstauthor.lower()+year+'_'+split[0]+'_'+split[1]+',')\n",
        "    authorline=' '*4 + 'author={' + ' and '.join(author_list)+'},'\n",
        "    lines.append(authorline)\n",
        "    if title is not None:\n",
        "        lines.append(' '*4 + 'title={' + title + '},')\n",
        "    if year is not None:\n",
        "        lines.append(' '*4 + 'year={' + year + '},')\n",
        "    if publisher is not None:\n",
        "        lines.append(' '*4 + 'publisher={' + publisher + '},')\n",
        "    if abstract is not None:\n",
        "        lines.append(' '*4 + 'abstract={' + abstract + '},')\n",
        "  lines.append('}\\n')\n",
        "  return lines"
      ]
    },
    {
      "cell_type": "code",
      "execution_count": 26,
      "metadata": {
        "id": "59y9EJ4LYXje"
      },
      "outputs": [],
      "source": [
        "with open('library.bib','w', encoding=\"utf-8\") as f:\n",
        "  for entry in bibfeed.entries:\n",
        "    f.write('\\n'.join(add_entry(entry)))"
      ]
    },
    {
      "cell_type": "code",
      "execution_count": 27,
      "metadata": {
        "id": "dWos2d6q77rM"
      },
      "outputs": [],
      "source": [
        "# Read in the file\n",
        "with open('library.bib', 'r', encoding=\"utf-8\") as file :\n",
        "  filedata = file.read()\n",
        "\n",
        "# Replace the target string\n",
        "filedata = filedata.replace('Gonzalez Caceres, Alex Arnoldo', 'Gonzalez, Alex')\n",
        "filedata = filedata.replace('Jimenez Encarnacion, Divia', 'Jimenez, Divia')\n",
        "# Write the file out again\n",
        "with open('library.bib', 'w', encoding=\"utf-8\") as file:\n",
        "  file.write(filedata)"
      ]
    }
  ],
  "metadata": {
    "colab": {
      "authorship_tag": "ABX9TyPX/2BN1gPWEKq+BJC3kjN2",
      "collapsed_sections": [],
      "include_colab_link": true,
      "provenance": []
    },
    "kernelspec": {
      "display_name": "Python 3.7.12 ('base')",
      "language": "python",
      "name": "python3"
    },
    "language_info": {
      "codemirror_mode": {
        "name": "ipython",
        "version": 3
      },
      "file_extension": ".py",
      "mimetype": "text/x-python",
      "name": "python",
      "nbconvert_exporter": "python",
      "pygments_lexer": "ipython3",
      "version": "3.7.12"
    },
    "vscode": {
      "interpreter": {
        "hash": "5756adccb1c4b08c9f1ba5b57037e6be2c903b78ec13cd4046e3d6815a77bb8d"
      }
    }
  },
  "nbformat": 4,
  "nbformat_minor": 0
}
